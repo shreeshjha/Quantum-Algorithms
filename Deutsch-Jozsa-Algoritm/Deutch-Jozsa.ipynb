{
 "cells": [
  {
   "cell_type": "code",
   "execution_count": 14,
   "id": "1b23b19f-abad-4716-b781-b231e03e6409",
   "metadata": {},
   "outputs": [
    {
     "name": "stderr",
     "output_type": "stream",
     "text": [
      "ibmqfactory.load_account:WARNING:2021-12-06 12:29:46,611: Credentials are already in use. The existing account in the session will be replaced.\n"
     ]
    }
   ],
   "source": [
    "import numpy as np\n",
    "\n",
    "# Importing standard Qiskit libraries\n",
    "from qiskit import QuantumCircuit, transpile, BasicAer, IBMQ, execute\n",
    "from qiskit.providers.ibmq import least_busy\n",
    "from qiskit.tools.jupyter import *\n",
    "from qiskit.visualization import *\n",
    "from ibm_quantum_widgets import *\n",
    "from qiskit.providers.aer import QasmSimulator\n",
    "\n",
    "# Loading your IBM Quantum account(s)\n",
    "provider = IBMQ.load_account()\n",
    "\n",
    "from qiskit.visualization import plot_histogram"
   ]
  },
  {
   "cell_type": "code",
   "execution_count": 15,
   "id": "b26a05c5-f314-44b5-8960-2db68b28919e",
   "metadata": {},
   "outputs": [],
   "source": [
    "def Oracle(case, n):\n",
    "    oracle_qc = QuantumCircuit(n+1)\n",
    "    if case == \"balanced\":\n",
    "        for qubit in range(n):\n",
    "            oracle_qc.cx(qubit, n)\n",
    "    if case == \"constant\":\n",
    "        output = np.random.randint(2)\n",
    "        if output == 1:\n",
    "            oracle_qc.x(n)\n",
    "            \n",
    "    oracle_gate = oracle_qc.to_gate()\n",
    "    oracle_gate.name = \" Oracle\"\n",
    "    return oracle_gate"
   ]
  },
  {
   "cell_type": "code",
   "execution_count": 16,
   "id": "0c42dacc-83e5-4909-87b8-e1418e42fd6a",
   "metadata": {},
   "outputs": [],
   "source": [
    "def deutch_josza_algo(n, case = 'random'):\n",
    "    deutch_josza_circuit = QuantumCircuit(n+1, n)\n",
    "    for qubit in range(n):\n",
    "        deutch_josza_circuit.h(qubit)\n",
    "    deutch_josza_circuit.x(n)\n",
    "    deutch_josza_circuit.h(n)\n",
    "    \n",
    "    if case == 'random':\n",
    "        random = np.random.randint(2)\n",
    "        if random == 0:\n",
    "            case = 'constant'\n",
    "        else:\n",
    "            case = 'balanced'\n",
    "    oracle = Oracle(case, n)\n",
    "    deutch_josza_circuit.append(oracle, range(n+1))\n",
    "    \n",
    "    for i in range(n):\n",
    "        deutch_josza_circuit.h(i)\n",
    "        deutch_josza_circuit.measure(i, i)\n",
    "    return deutch_josza_circuit\n",
    "    "
   ]
  },
  {
   "cell_type": "code",
   "execution_count": 17,
   "id": "3368ef60-afa8-4b74-b08a-49ceb276baa2",
   "metadata": {},
   "outputs": [
    {
     "data": {
      "image/png": "[encoded data removed]",
      "text/plain": [
       "<Figure size 628.397x385.28 with 1 Axes>"
      ]
     },
     "execution_count": 17,
     "metadata": {},
     "output_type": "execute_result"
    }
   ],
   "source": [
    "n = 4\n",
    "deutch_josza_circuit = deutch_josza_algo(n)\n",
    "deutch_josza_circuit.draw()"
   ]
  },
  {
   "cell_type": "code",
   "execution_count": 18,
   "id": "00e89a99-b7db-4dbe-b07c-17c66a5502a6",
   "metadata": {},
   "outputs": [
    {
     "data": {
      "image/png": "[encoded data removed]",
      "text/plain": [
       "<Figure size 504x360 with 1 Axes>"
      ]
     },
     "execution_count": 18,
     "metadata": {},
     "output_type": "execute_result"
    }
   ],
   "source": [
    "backend = BasicAer.get_backend('qasm_simulator')\n",
    "shots = 1024\n",
    "deutch_josza_circuit = deutch_josza_algo(n, 'constant')\n",
    "results = execute(deutch_josza_circuit, backend = backend, shots = shots).result()\n",
    "answer = results.get_counts()\n",
    "\n",
    "plot_histogram(answer)"
   ]
  },
  {
   "cell_type": "code",
   "execution_count": null,
   "id": "486bfe03-32b7-4134-b5c5-5394d480b72a",
   "metadata": {},
   "outputs": [],
   "source": [
    "backend = least_busy(provider.backends(filters = lambda x: x.configuration().n_qubits >= (n + 1) and \n",
    "                                       not x.configuration().simulator and x.status().operational == True))\n",
    "print(\"least busy backend: \", backend)\n",
    "%qiskit_job_watcher\n",
    "deutch_josza_circuit = deutch_josza_algo(n)\n",
    "job = execute(deutch_josza_circuit, backend = backend, shots = shots, optimization_level = 3)"
   ]
  },
  {
   "cell_type": "code",
   "execution_count": null,
   "id": "95940063-93f5-42ce-a281-fe4675c01a6b",
   "metadata": {},
   "outputs": [],
   "source": []
  },
  {
   "cell_type": "code",
   "execution_count": null,
   "id": "1db73a5b-972a-46b0-a00a-63bf3fab6ba2",
   "metadata": {},
   "outputs": [],
   "source": [
    "results = job.result()\n",
    "answer = results.get_counts()\n",
    "plot_histogram(answer)"
   ]
  },
  {
   "cell_type": "code",
   "execution_count": null,
   "id": "a7937fda-6c2a-47ee-8baf-203d8ac9dc11",
   "metadata": {},
   "outputs": [],
   "source": []
  }
 ],
 "metadata": {
  "kernelspec": {
   "display_name": "Qiskit v0.32.1 (ipykernel)",
   "language": "python",
   "name": "python3"
  },
  "language_info": {
   "codemirror_mode": {
    "name": "ipython",
    "version": 3
   },
   "file_extension": ".py",
   "mimetype": "text/x-python",
   "name": "python",
   "nbconvert_exporter": "python",
   "pygments_lexer": "ipython3",
   "version": "3.8.10"
  },
  "widgets": {
   "application/vnd.jupyter.widget-state+json": {
    "state": {
     "03c47ca716604f3bb5b4f93e82ff6080": {
      "model_module": "@jupyter-widgets/base",
      "model_module_version": "1.2.0",
      "model_name": "LayoutModel",
      "state": {
       "width": "70px"
      }
     },
     "08be7f6c87b949bf9d9871df1d9efca6": {
      "model_module": "@jupyter-widgets/base",
      "model_module_version": "1.2.0",
      "model_name": "LayoutModel",
      "state": {
       "width": "95px"
      }
     },
     "12099a27275540d882d02e7cee31444e": {
      "model_module": "@jupyter-widgets/base",
      "model_module_version": "1.2.0",
      "model_name": "LayoutModel",
      "state": {
       "width": "95px"
      }
     },
     "13fda5fd9af64723b7d6f6b04c9ad7e3": {
      "model_module": "@jupyter-widgets/controls",
      "model_module_version": "1.5.0",
      "model_name": "HTMLModel",
      "state": {
       "layout": "IPY_MODEL_c38864aeee014a889630d2cfd692a8b0",
       "style": "IPY_MODEL_dd708070c9d04310b1c1b8114a7027b7",
       "value": "ibmq_belem"
      }
     },
     "1ca62449a0824af1b9cfade6602bec43": {
      "model_module": "@jupyter-widgets/controls",
      "model_module_version": "1.5.0",
      "model_name": "GridBoxModel",
      "state": {
       "children": [
        "IPY_MODEL_bc2fa405c27641aeb585dc64ca99fd7c"
       ],
       "layout": "IPY_MODEL_68b371debbd44e77bc8a4531a9179ddf"
      }
     },
     "1fb6a3a076e841029cd9cae76e4dfd61": {
      "model_module": "@jupyter-widgets/controls",
      "model_module_version": "1.5.0",
      "model_name": "HTMLModel",
      "state": {
       "layout": "IPY_MODEL_08be7f6c87b949bf9d9871df1d9efca6",
       "style": "IPY_MODEL_fd699a98eb6a49b09ad93afd9807b599",
       "value": "<h5>Status</h5>"
      }
     },
     "22961fe780bb4d74bd1dd6273f6bf687": {
      "model_module": "@jupyter-widgets/controls",
      "model_module_version": "1.5.0",
      "model_name": "HTMLModel",
      "state": {
       "layout": "IPY_MODEL_23ac14824fb24f0688cff856ad8829d2",
       "style": "IPY_MODEL_d5f8189cb1264a45b138c53fab6f5604",
       "value": "<p style='font-family: IBM Plex Sans, Arial, Helvetica, sans-serif; font-size: 20px; font-weight: medium;'>Circuit Properties</p>"
      }
     },
     "23ac14824fb24f0688cff856ad8829d2": {
      "model_module": "@jupyter-widgets/base",
      "model_module_version": "1.2.0",
      "model_name": "LayoutModel",
      "state": {
       "margin": "0px 0px 10px 0px"
      }
     },
     "23fee3e060564b2799ed948ee69aae21": {
      "model_module": "@jupyter-widgets/controls",
      "model_module_version": "1.5.0",
      "model_name": "HTMLModel",
      "state": {
       "layout": "IPY_MODEL_8b65c615185941248094cf13a4eed62b",
       "style": "IPY_MODEL_507629873ef945418a713ec212d3b80a",
       "value": "61ae03acdcbe230b5d194602"
      }
     },
     "2966da305e1645c4a94e73a4d89c140e": {
      "model_module": "@jupyter-widgets/controls",
      "model_module_version": "1.5.0",
      "model_name": "HTMLModel",
      "state": {
       "layout": "IPY_MODEL_12099a27275540d882d02e7cee31444e",
       "style": "IPY_MODEL_8b7ad103c3cb47929ec34c9c87fa63ec",
       "value": "QUEUED"
      }
     },
     "2d917f8b0ae54d3ba30e5f8255e2477f": {
      "model_module": "@jupyter-widgets/base",
      "model_module_version": "1.2.0",
      "model_name": "LayoutModel",
      "state": {}
     },
     "37b6e72fa52a4bc5aa12e73d34cae354": {
      "model_module": "@jupyter-widgets/controls",
      "model_module_version": "1.5.0",
      "model_name": "ButtonModel",
      "state": {
       "icon": "close",
       "layout": "IPY_MODEL_dd0e3b08c01f482684f0070ef7094fbb",
       "style": "IPY_MODEL_8eb24185825c487fbb1ae06b6fbd93d6"
      }
     },
     "45803cd4fc8b42778f951825241e3731": {
      "model_module": "@jupyter-widgets/base",
      "model_module_version": "1.2.0",
      "model_name": "LayoutModel",
      "state": {
       "max_height": "500px",
       "max_width": "750px",
       "overflow_x": "hidden",
       "overflow_y": "scroll",
       "visibility": "visible",
       "width": "auto"
      }
     },
     "48df49c600344b64a12ae4c232891646": {
      "model_module": "@jupyter-widgets/controls",
      "model_module_version": "1.5.0",
      "model_name": "DescriptionStyleModel",
      "state": {
       "description_width": ""
      }
     },
     "4bfdeecf4d564f7d8eaaa51199aeca5b": {
      "model_module": "@jupyter-widgets/base",
      "model_module_version": "1.2.0",
      "model_name": "LayoutModel",
      "state": {
       "width": "190px"
      }
     },
     "507629873ef945418a713ec212d3b80a": {
      "model_module": "@jupyter-widgets/controls",
      "model_module_version": "1.5.0",
      "model_name": "DescriptionStyleModel",
      "state": {
       "description_width": ""
      }
     },
     "510a965dee36458a8532e4a06dd9109b": {
      "model_module": "@jupyter-widgets/controls",
      "model_module_version": "1.5.0",
      "model_name": "HBoxModel",
      "state": {
       "children": [
        "IPY_MODEL_ba7b48c17c404017a379ebbb65a0a076",
        "IPY_MODEL_8c7dab4f61e348798b286a0e436b1f64",
        "IPY_MODEL_1fb6a3a076e841029cd9cae76e4dfd61",
        "IPY_MODEL_a051745ca37d417482b4f199b19bf769",
        "IPY_MODEL_ceb390a54c35445fbebcf46eaf29c637"
       ],
       "layout": "IPY_MODEL_6caf1c79881f4ff4b4e21c6cf427259f"
      }
     },
     "5c2cb6bd931d418290e1ebaeebc9ed1a": {
      "model_module": "@jupyter-widgets/controls",
      "model_module_version": "1.5.0",
      "model_name": "HBoxModel",
      "state": {
       "children": [
        "IPY_MODEL_37b6e72fa52a4bc5aa12e73d34cae354",
        "IPY_MODEL_23fee3e060564b2799ed948ee69aae21",
        "IPY_MODEL_13fda5fd9af64723b7d6f6b04c9ad7e3",
        "IPY_MODEL_2966da305e1645c4a94e73a4d89c140e",
        "IPY_MODEL_8a6cf272eae9485097916a0c20a02f2d",
        "IPY_MODEL_bfdc4c71fb754dbf8318d23381dc7cb5"
       ],
       "layout": "IPY_MODEL_631a183126954d45ab624bbe62c8f4db"
      }
     },
     "5d7d338896244e69b4dc2ac53956349b": {
      "model_module": "@jupyter-widgets/controls",
      "model_module_version": "1.5.0",
      "model_name": "VBoxModel",
      "state": {
       "children": [
        "IPY_MODEL_1ca62449a0824af1b9cfade6602bec43",
        "IPY_MODEL_510a965dee36458a8532e4a06dd9109b",
        "IPY_MODEL_5c2cb6bd931d418290e1ebaeebc9ed1a"
       ],
       "layout": "IPY_MODEL_c44756ce5c9d40648253cf2234ff3b67"
      }
     },
     "631a183126954d45ab624bbe62c8f4db": {
      "model_module": "@jupyter-widgets/base",
      "model_module_version": "1.2.0",
      "model_name": "LayoutModel",
      "state": {
       "max_width": "700px",
       "min_width": "700px"
      }
     },
     "68a88d5c66124b9cb8c6f06c05f6badd": {
      "model_module": "@jupyter-widgets/controls",
      "model_module_version": "1.5.0",
      "model_name": "AccordionModel",
      "state": {
       "_dom_classes": [
        "job_widget"
       ],
       "_titles": {
        "0": "IBMQ Jobs"
       },
       "children": [
        "IPY_MODEL_5d7d338896244e69b4dc2ac53956349b"
       ],
       "layout": "IPY_MODEL_45803cd4fc8b42778f951825241e3731"
      }
     },
     "68b371debbd44e77bc8a4531a9179ddf": {
      "model_module": "@jupyter-widgets/base",
      "model_module_version": "1.2.0",
      "model_name": "LayoutModel",
      "state": {
       "grid_template_areas": "\n                                       \". . . . right \"\n                                        ",
       "grid_template_columns": "20% 20% 20% 20% 20%",
       "width": "100%"
      }
     },
     "6caf1c79881f4ff4b4e21c6cf427259f": {
      "model_module": "@jupyter-widgets/base",
      "model_module_version": "1.2.0",
      "model_name": "LayoutModel",
      "state": {
       "margin": "0px 0px 0px 37px",
       "width": "600px"
      }
     },
     "7444ca3a27ed475ba23bf73063eb4096": {
      "model_module": "@jupyter-widgets/controls",
      "model_module_version": "1.5.0",
      "model_name": "DescriptionStyleModel",
      "state": {
       "description_width": ""
      }
     },
     "89de958b683b4073bead9c489b82ca1f": {
      "model_module": "@jupyter-widgets/controls",
      "model_module_version": "1.5.0",
      "model_name": "DescriptionStyleModel",
      "state": {
       "description_width": ""
      }
     },
     "8a6cf272eae9485097916a0c20a02f2d": {
      "model_module": "@jupyter-widgets/controls",
      "model_module_version": "1.5.0",
      "model_name": "HTMLModel",
      "state": {
       "layout": "IPY_MODEL_e0dfcead628f410c802d95c2c25eb237",
       "style": "IPY_MODEL_48df49c600344b64a12ae4c232891646",
       "value": "4"
      }
     },
     "8b65c615185941248094cf13a4eed62b": {
      "model_module": "@jupyter-widgets/base",
      "model_module_version": "1.2.0",
      "model_name": "LayoutModel",
      "state": {
       "width": "190px"
      }
     },
     "8b7ad103c3cb47929ec34c9c87fa63ec": {
      "model_module": "@jupyter-widgets/controls",
      "model_module_version": "1.5.0",
      "model_name": "DescriptionStyleModel",
      "state": {
       "description_width": ""
      }
     },
     "8c7dab4f61e348798b286a0e436b1f64": {
      "model_module": "@jupyter-widgets/controls",
      "model_module_version": "1.5.0",
      "model_name": "HTMLModel",
      "state": {
       "layout": "IPY_MODEL_dc7602322840444db5c87ad4d0a41785",
       "style": "IPY_MODEL_7444ca3a27ed475ba23bf73063eb4096",
       "value": "<h5>Backend</h5>"
      }
     },
     "8eb24185825c487fbb1ae06b6fbd93d6": {
      "model_module": "@jupyter-widgets/controls",
      "model_module_version": "1.5.0",
      "model_name": "ButtonStyleModel",
      "state": {
       "button_color": "white"
      }
     },
     "a051745ca37d417482b4f199b19bf769": {
      "model_module": "@jupyter-widgets/controls",
      "model_module_version": "1.5.0",
      "model_name": "HTMLModel",
      "state": {
       "layout": "IPY_MODEL_03c47ca716604f3bb5b4f93e82ff6080",
       "style": "IPY_MODEL_c7ce464cea2347a1ad7d045af3fbc0a1",
       "value": "<h5>Queue</h5>"
      }
     },
     "ba7b48c17c404017a379ebbb65a0a076": {
      "model_module": "@jupyter-widgets/controls",
      "model_module_version": "1.5.0",
      "model_name": "HTMLModel",
      "state": {
       "layout": "IPY_MODEL_4bfdeecf4d564f7d8eaaa51199aeca5b",
       "style": "IPY_MODEL_89de958b683b4073bead9c489b82ca1f",
       "value": "<h5>Job ID</h5>"
      }
     },
     "bc2fa405c27641aeb585dc64ca99fd7c": {
      "model_module": "@jupyter-widgets/controls",
      "model_module_version": "1.5.0",
      "model_name": "ButtonModel",
      "state": {
       "button_style": "primary",
       "description": "Clear",
       "layout": "IPY_MODEL_dca64c69b8824df28f949180e67b0053",
       "style": "IPY_MODEL_ef6ff96cca7e4b91a9dccd810b966b41"
      }
     },
     "bfdc4c71fb754dbf8318d23381dc7cb5": {
      "model_module": "@jupyter-widgets/controls",
      "model_module_version": "1.5.0",
      "model_name": "HTMLModel",
      "state": {
       "layout": "IPY_MODEL_cb03020fa322498ea85e045d5d7e9180",
       "style": "IPY_MODEL_e417e439614a43028e7f93297cb57cda",
       "value": "job is queued"
      }
     },
     "c38864aeee014a889630d2cfd692a8b0": {
      "model_module": "@jupyter-widgets/base",
      "model_module_version": "1.2.0",
      "model_name": "LayoutModel",
      "state": {
       "width": "145px"
      }
     },
     "c44756ce5c9d40648253cf2234ff3b67": {
      "model_module": "@jupyter-widgets/base",
      "model_module_version": "1.2.0",
      "model_name": "LayoutModel",
      "state": {
       "max_width": "710px",
       "min_width": "710px"
      }
     },
     "c7ce464cea2347a1ad7d045af3fbc0a1": {
      "model_module": "@jupyter-widgets/controls",
      "model_module_version": "1.5.0",
      "model_name": "DescriptionStyleModel",
      "state": {
       "description_width": ""
      }
     },
     "cb03020fa322498ea85e045d5d7e9180": {
      "model_module": "@jupyter-widgets/base",
      "model_module_version": "1.2.0",
      "model_name": "LayoutModel",
      "state": {
       "overflow_x": "scroll"
      }
     },
     "ceb390a54c35445fbebcf46eaf29c637": {
      "model_module": "@jupyter-widgets/controls",
      "model_module_version": "1.5.0",
      "model_name": "HTMLModel",
      "state": {
       "layout": "IPY_MODEL_2d917f8b0ae54d3ba30e5f8255e2477f",
       "style": "IPY_MODEL_feb3a981a6324e919d00f29bfa243e47",
       "value": "<h5>Message</h5>"
      }
     },
     "d5f8189cb1264a45b138c53fab6f5604": {
      "model_module": "@jupyter-widgets/controls",
      "model_module_version": "1.5.0",
      "model_name": "DescriptionStyleModel",
      "state": {
       "description_width": ""
      }
     },
     "dc7602322840444db5c87ad4d0a41785": {
      "model_module": "@jupyter-widgets/base",
      "model_module_version": "1.2.0",
      "model_name": "LayoutModel",
      "state": {
       "width": "145px"
      }
     },
     "dca64c69b8824df28f949180e67b0053": {
      "model_module": "@jupyter-widgets/base",
      "model_module_version": "1.2.0",
      "model_name": "LayoutModel",
      "state": {
       "grid_area": "right",
       "padding": "0px 0px 0px 0px",
       "width": "70px"
      }
     },
     "dd0e3b08c01f482684f0070ef7094fbb": {
      "model_module": "@jupyter-widgets/base",
      "model_module_version": "1.2.0",
      "model_name": "LayoutModel",
      "state": {
       "margin": "0px 5px 0px 0px",
       "width": "32px"
      }
     },
     "dd708070c9d04310b1c1b8114a7027b7": {
      "model_module": "@jupyter-widgets/controls",
      "model_module_version": "1.5.0",
      "model_name": "DescriptionStyleModel",
      "state": {
       "description_width": ""
      }
     },
     "e0dfcead628f410c802d95c2c25eb237": {
      "model_module": "@jupyter-widgets/base",
      "model_module_version": "1.2.0",
      "model_name": "LayoutModel",
      "state": {
       "width": "70px"
      }
     },
     "e417e439614a43028e7f93297cb57cda": {
      "model_module": "@jupyter-widgets/controls",
      "model_module_version": "1.5.0",
      "model_name": "DescriptionStyleModel",
      "state": {
       "description_width": ""
      }
     },
     "ef6ff96cca7e4b91a9dccd810b966b41": {
      "model_module": "@jupyter-widgets/controls",
      "model_module_version": "1.5.0",
      "model_name": "ButtonStyleModel",
      "state": {}
     },
     "fd699a98eb6a49b09ad93afd9807b599": {
      "model_module": "@jupyter-widgets/controls",
      "model_module_version": "1.5.0",
      "model_name": "DescriptionStyleModel",
      "state": {
       "description_width": ""
      }
     },
     "feb3a981a6324e919d00f29bfa243e47": {
      "model_module": "@jupyter-widgets/controls",
      "model_module_version": "1.5.0",
      "model_name": "DescriptionStyleModel",
      "state": {
       "description_width": ""
      }
     }
    },
    "version_major": 2,
    "version_minor": 0
   }
  }
 },
 "nbformat": 4,
 "nbformat_minor": 5
}
